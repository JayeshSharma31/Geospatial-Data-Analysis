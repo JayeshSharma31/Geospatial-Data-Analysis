{
 "cells": [
  {
   "cell_type": "markdown",
   "id": "d8c08b41",
   "metadata": {},
   "source": [
    "# Geospatial Application By JAYESH"
   ]
  },
  {
   "cell_type": "code",
   "execution_count": null,
   "id": "a2b3f10f",
   "metadata": {},
   "outputs": [],
   "source": [
    "import folium"
   ]
  },
  {
   "cell_type": "code",
   "execution_count": 1,
   "id": "91e3356f",
   "metadata": {},
   "outputs": [
    {
     "name": "stdout",
     "output_type": "stream",
     "text": [
      "Enter the latitude: 8.2\n",
      "Enter the longitude: 36.02\n",
      "Enter the minimum magnitude to display: 9.0\n",
      "Map created and saved as earthquake_map.html\n"
     ]
    }
   ],
   "source": [
    "import folium\n",
    "import requests\n",
    "from math import radians, sin, cos, sqrt, atan2\n",
    "\n",
    "def get_earthquake_data(min_magnitude=0):\n",
    "    url = f\"https://earthquake.usgs.gov/fdsnws/event/1/query?format=geojson&minmagnitude={min_magnitude}\"\n",
    "    response = requests.get(url)\n",
    "    data = response.json()\n",
    "    return data\n",
    "\n",
    "def calculate_distance(lat1, lon1, lat2, lon2):\n",
    "    R = 6371.0  # approximate radius of Earth in km\n",
    "\n",
    "    lat1_rad = radians(lat1)\n",
    "    lon1_rad = radians(lon1)\n",
    "    lat2_rad = radians(lat2)\n",
    "    lon2_rad = radians(lon2)\n",
    "\n",
    "    dlon = lon2_rad - lon1_rad\n",
    "    dlat = lat2_rad - lat1_rad\n",
    "\n",
    "    a = sin(dlat / 2)**2 + cos(lat1_rad) * cos(lat2_rad) * sin(dlon / 2)**2\n",
    "    c = 2 * atan2(sqrt(a), sqrt(1 - a))\n",
    "\n",
    "    distance = R * c\n",
    "    return distance\n",
    "\n",
    "def create_map(location, earthquake_data):\n",
    "    # Create map centered around the specified location\n",
    "    map = folium.Map(location=location, zoom_start=4)\n",
    "\n",
    "    # Add markers for earthquakes within a certain radius of the location\n",
    "    for feature in earthquake_data['features']:\n",
    "        eq_lat = feature['geometry']['coordinates'][1]\n",
    "        eq_lon = feature['geometry']['coordinates'][0]\n",
    "        magnitude = feature['properties']['mag']\n",
    "        distance = calculate_distance(location[0], location[1], eq_lat, eq_lon)\n",
    "        popup_text = f\"Magnitude: {magnitude}, Distance: {distance:.2f} km\"\n",
    "        marker = folium.Marker(location=[eq_lat, eq_lon], popup=popup_text)\n",
    "        marker.add_to(map)\n",
    "\n",
    "    return map\n",
    "\n",
    "if __name__ == \"__main__\":\n",
    "    # Prompt the user to input the location (latitude and longitude)\n",
    "    lat = float(input(\"Enter the latitude: \"))\n",
    "    lon = float(input(\"Enter the longitude: \"))\n",
    "    location = [lat, lon]\n",
    "\n",
    "    # Prompt the user to input the minimum magnitude\n",
    "    min_magnitude = float(input(\"Enter the minimum magnitude to display: \"))\n",
    "\n",
    "    # Fetch earthquake data\n",
    "    earthquake_data = get_earthquake_data(min_magnitude)\n",
    "\n",
    "    # Create and save the map\n",
    "    map = create_map(location, earthquake_data)\n",
    "    map.save(\"earthquake_map.html\")\n",
    "    print(\"Map created and saved as earthquake_map.html\")"
   ]
  },
  {
   "cell_type": "code",
   "execution_count": null,
   "id": "e7f73f25",
   "metadata": {},
   "outputs": [],
   "source": []
  }
 ],
 "metadata": {
  "kernelspec": {
   "display_name": "Python 3 (ipykernel)",
   "language": "python",
   "name": "python3"
  },
  "language_info": {
   "codemirror_mode": {
    "name": "ipython",
    "version": 3
   },
   "file_extension": ".py",
   "mimetype": "text/x-python",
   "name": "python",
   "nbconvert_exporter": "python",
   "pygments_lexer": "ipython3",
   "version": "3.10.9"
  }
 },
 "nbformat": 4,
 "nbformat_minor": 5
}
